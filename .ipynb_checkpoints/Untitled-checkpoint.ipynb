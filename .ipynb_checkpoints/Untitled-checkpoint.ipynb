{
 "cells": [
  {
   "cell_type": "code",
   "execution_count": 14,
   "metadata": {},
   "outputs": [],
   "source": [
    "%config IPCompleter.greedy=True\n",
    "\n",
    "import torch\n",
    "import torch.nn as nn\n",
    "import torch.nn.functional as F\n",
    "import matplotlib.pyplot as plt\n",
    "import random\n",
    "import math"
   ]
  },
  {
   "cell_type": "code",
   "execution_count": 15,
   "metadata": {},
   "outputs": [
    {
     "name": "stdout",
     "output_type": "stream",
     "text": [
      "[53.33333333333333, 2910.2618165375143, 162974.6617261008]\n"
     ]
    }
   ],
   "source": [
    "x_lim, y_lim, v_lim = [0, 10], [0, 10], 0.5\n",
    "particle_num, pos_size, vel_size = 10, 2, 2\n",
    "att_size = pos_size + vel_size\n",
    "\n",
    "kernel_range = 0.025\n",
    "kernel_normalization_factor = [4 / (3 * kernel_range), 40 / (7 * math.pi * pow(kernel_range, 2)), 8 / (math.pi * pow(kernel_range, 3))]\n",
    "\n",
    "print(kernel_normalization_factor)\n",
    "mass = 1\n",
    "\n",
    "def kernel_func(r, h = 0.025):\n",
    "    q = torch.norm(r) / h\n",
    "    return\n",
    "\n",
    "\n",
    "def visualize(particle_info):\n",
    "    fig = plt.figure()\n",
    "    plt.plot(particle_info, 'ro')\n",
    "    plt.axis(x_lim + y_lim)\n",
    "    plt.show()"
   ]
  },
  {
   "cell_type": "code",
   "execution_count": 11,
   "metadata": {},
   "outputs": [],
   "source": [
    "class SPHNet(nn.Module):\n",
    "    def __init__(self):\n",
    "        super(SPHNet, self).__init__()\n",
    "        \n",
    "    def forward(self, x):\n",
    "        \n",
    "        return x"
   ]
  },
  {
   "cell_type": "code",
   "execution_count": 12,
   "metadata": {},
   "outputs": [
    {
     "name": "stdout",
     "output_type": "stream",
     "text": [
      "tensor(200., dtype=torch.float64)\n",
      "tensor([[ 0.7360,  8.6896, -0.3379, -0.4902],\n",
      "        [ 2.1343,  0.0284, -0.0730,  0.3562],\n",
      "        [ 9.3247,  0.3310, -0.4324, -0.2297],\n",
      "        [ 1.3200,  8.9565, -0.1279, -0.2972],\n",
      "        [ 1.7685,  5.0558,  0.2188,  0.0251],\n",
      "        [ 4.1178,  8.7743,  0.3857, -0.2164],\n",
      "        [ 8.9734,  7.6278,  0.3932,  0.1730],\n",
      "        [ 5.2820,  5.6167, -0.3802,  0.3801],\n",
      "        [ 1.0748,  2.6787,  0.3212,  0.3391],\n",
      "        [ 5.2860,  0.3745, -0.4736,  0.2638]], dtype=torch.float64)\n"
     ]
    },
    {
     "data": {
      "image/png": "[encoded data removed]",
      "text/plain": [
       "<Figure size 432x288 with 1 Axes>"
      ]
     },
     "metadata": {
      "needs_background": "light"
     },
     "output_type": "display_data"
    }
   ],
   "source": [
    "kernel_func(torch.tensor([3, 4], dtype = float))\n",
    "\n",
    "\n",
    "particles = torch.zeros([particle_num, att_size], dtype = float)\n",
    "\n",
    "for i in range(particle_num):\n",
    "    particles[i] = torch.tensor([random.uniform(x_lim[0], x_lim[1]), random.uniform(y_lim[0], y_lim[1]),\n",
    "                                 random.uniform(-v_lim, v_lim), random.uniform(-v_lim, v_lim)], dtype = float)\n",
    "\n",
    "\n",
    "print(particles)\n",
    "\n",
    "\n",
    "sph = SPHNet()\n",
    "\n",
    "particles = sph(particles)\n",
    "visualize(particles)"
   ]
  },
  {
   "cell_type": "code",
   "execution_count": null,
   "metadata": {},
   "outputs": [],
   "source": []
  }
 ],
 "metadata": {
  "kernelspec": {
   "display_name": "Python 3",
   "language": "python",
   "name": "python3"
  },
  "language_info": {
   "codemirror_mode": {
    "name": "ipython",
    "version": 3
   },
   "file_extension": ".py",
   "mimetype": "text/x-python",
   "name": "python",
   "nbconvert_exporter": "python",
   "pygments_lexer": "ipython3",
   "version": "3.6.5"
  }
 },
 "nbformat": 4,
 "nbformat_minor": 4
}
