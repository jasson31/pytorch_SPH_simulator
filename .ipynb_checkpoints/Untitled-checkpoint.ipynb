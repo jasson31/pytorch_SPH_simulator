{
 "cells": [
  {
   "cell_type": "code",
   "execution_count": 1,
   "metadata": {},
   "outputs": [],
   "source": [
    "%config IPCompleter.greedy=True\n",
    "\n",
    "import torch\n",
    "import torch.nn as nn\n",
    "import torch.nn.functional as F\n",
    "import matplotlib.pyplot as plt\n",
    "from matplotlib.animation import FuncAnimation\n",
    "import random\n",
    "import math"
   ]
  },
  {
   "cell_type": "code",
   "execution_count": 19,
   "metadata": {},
   "outputs": [
    {
     "name": "stdout",
     "output_type": "stream",
     "text": [
      "tensor([ True, False, False])\n",
      "tensor([ True,  True, False])\n",
      "tensor([ 6.5935e+09, -2.7939e+05,  0.0000e+00])\n"
     ]
    }
   ],
   "source": [
    "x_lim, y_lim, v_lim = [0, 1], [0, 1], 0.5\n",
    "#dimension is equal to position size and velocity size\n",
    "n_particle, dimension = 10, 2\n",
    "\n",
    "delta_t = 0.002\n",
    "ext_f = torch.tensor([[0, -9.8]] * n_particle)\n",
    "kernel_range = 0.025\n",
    "kernel_normalization_factor = [4 / (3 * kernel_range), 40 / (7 * math.pi * pow(kernel_range, 2)), 8 / (math.pi * pow(kernel_range, 3))]\n",
    "\n",
    "mass = torch.ones(n_particle)\n",
    "\n",
    "def kernel_func(r_diff, h = kernel_range):\n",
    "    #r_diff : [2, n_particle, n_particle]\n",
    "    q = torch.norm(r_diff, dim = 0) / h\n",
    "    \n",
    "    mask1 = q <= 0.5\n",
    "    mask2 = q <= 1\n",
    "    \n",
    "    result = torch.zeros(r_diff.shape[1:])\n",
    "    result += kernel_normalization_factor[dimension - 1] * (6 * (pow(q, 3) - pow(q, 2)) + 1) * mask1\n",
    "    result += kernel_normalization_factor[dimension - 1] * (2 * pow(1 - q, 3)) * ~mask1 * mask2\n",
    "    \n",
    "    return result.sum(0)\n",
    "\n",
    "def kernel_func_grad(r_diff, h = kernel_range):\n",
    "    q = torch.norm(r_diff, dim = 0) / kernel_range\n",
    "    \n",
    "    mask1 = q <= 0.5\n",
    "    mask2 = q <= 1\n",
    "    \n",
    "    result = torch.zeros(r_diff.shape)\n",
    "    \n",
    "    r_diff_without_zero = r_diff[r_diff == 0] = 1\n",
    "    result += kernel_normalization_factor[dimension - 1] * -6 * r_diff * (2 * h - 3 * torch.abs(r_diff)) / pow(h, 3) * mask1\n",
    "    result += kernel_normalization_factor[dimension - 1] * -6 * r_diff * pow(h - torch.abs(r_diff), 2) / (pow(h, 3) * torch.abs(r_diff))  * ~mask1 * mask2\n",
    "    \n",
    "    return result.sum(0)\n",
    "\n",
    "rest_density = kernel_func(torch.tensor([[0], [0]], dtype = float))\n",
    "\n",
    "def visualize(pos_info):\n",
    "    fig = plt.figure()\n",
    "    \n",
    "    x, y = pos_info.T\n",
    "    plt.scatter(x,y)\n",
    "    plt.axis(x_lim + y_lim) \n",
    "    plt.show()"
   ]
  },
  {
   "cell_type": "code",
   "execution_count": 3,
   "metadata": {},
   "outputs": [],
   "source": [
    "class SPHNet(nn.Module):\n",
    "    def __init__(self):\n",
    "        super(SPHNet, self).__init__()\n",
    "        \n",
    "    def forward(self, pos, vel):\n",
    "        result = torch.zeros(pos.shape)\n",
    "        \n",
    "        #equation 11\n",
    "        x, y = pos[:, :1], pos[:, 1:2]\n",
    "        \n",
    "        diff_mat = torch.stack([x - x.transpose(0, -1), y - y.transpose(0, -1)], dim=1)\n",
    "        '''diff_mat = torch.empty(2, pos.shape[0], pos.shape[0], dtype=torch.float)\n",
    "        diff_mat[0] = x - x.transpose(0, -1)\n",
    "        diff_mat[1] = y - y.transpose(0, -1)'''\n",
    "        \n",
    "        density = kernel_func(diff_mat) * mass\n",
    "        \n",
    "        \n",
    "        #equation 23    \n",
    "        new_vel = vel + delta_t / torch.stack([mass, mass], dim = 1) * ext_f\n",
    "        \n",
    "        #need to implement viscosity later\n",
    "        \n",
    "        \n",
    "        \n",
    "        #equation 19\n",
    "        pressure = torch.zeros(pos.shape)\n",
    "        pressure \n",
    "        \n",
    "        \n",
    "              \n",
    "        return pos"
   ]
  },
  {
   "cell_type": "code",
   "execution_count": 4,
   "metadata": {},
   "outputs": [
    {
     "data": {
      "image/png": "[encoded data removed]",
      "text/plain": [
       "<Figure size 432x288 with 1 Axes>"
      ]
     },
     "metadata": {
      "needs_background": "light"
     },
     "output_type": "display_data"
    }
   ],
   "source": [
    "pos, vel = torch.zeros([n_particle, dimension], dtype = float), torch.zeros([n_particle, dimension], dtype = float)\n",
    "\n",
    "\n",
    "for i in range(n_particle):\n",
    "    pos[i] = torch.tensor([random.uniform(x_lim[0], x_lim[1]), random.uniform(y_lim[0], y_lim[1])], dtype = float)\n",
    "    vel[i] = torch.tensor([random.uniform(0, v_lim), random.uniform(0, v_lim)], dtype = float)\n",
    "\n",
    "pos_list, vel_list = [pos], [vel]\n",
    "\n",
    "sph = SPHNet()\n",
    "\n",
    "pos = sph(pos, vel)\n",
    "visualize(pos)"
   ]
  },
  {
   "cell_type": "code",
   "execution_count": 13,
   "metadata": {},
   "outputs": [
    {
     "name": "stdout",
     "output_type": "stream",
     "text": [
      "tensor([1, 0, 1, 0, 1])\n",
      "tensor([1, 1, 1, 1, 1])\n"
     ]
    }
   ],
   "source": [
    "value = torch.tensor([1, 0, 1, 0, 1])\n",
    "print(value)\n",
    "value[value == 0] = 1\n",
    "print(value)"
   ]
  },
  {
   "cell_type": "code",
   "execution_count": null,
   "metadata": {},
   "outputs": [],
   "source": []
  }
 ],
 "metadata": {
  "kernelspec": {
   "display_name": "Python 3",
   "language": "python",
   "name": "python3"
  },
  "language_info": {
   "codemirror_mode": {
    "name": "ipython",
    "version": 3
   },
   "file_extension": ".py",
   "mimetype": "text/x-python",
   "name": "python",
   "nbconvert_exporter": "python",
   "pygments_lexer": "ipython3",
   "version": "3.6.12"
  }
 },
 "nbformat": 4,
 "nbformat_minor": 4
}
