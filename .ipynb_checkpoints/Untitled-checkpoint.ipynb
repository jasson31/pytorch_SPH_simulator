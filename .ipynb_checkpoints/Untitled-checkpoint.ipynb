{
 "cells": [
  {
   "cell_type": "code",
   "execution_count": 16,
   "metadata": {},
   "outputs": [],
   "source": [
    "%config IPCompleter.greedy=True\n",
    "\n",
    "import torch\n",
    "import torch.nn as nn\n",
    "import torch.nn.functional as F\n",
    "import matplotlib.pyplot as plt\n",
    "from matplotlib.animation import FuncAnimation\n",
    "import random\n",
    "import math"
   ]
  },
  {
   "cell_type": "code",
   "execution_count": 41,
   "metadata": {},
   "outputs": [],
   "source": [
    "x_lim, y_lim, v_lim = [0, 1], [0, 1], 0.5\n",
    "#dimension is equal to position size and velocity size\n",
    "particle_num, dimension = 10, 2\n",
    "\n",
    "delta_t = 0.002\n",
    "ext_f = torch.tensor([[0, -9.8]] * particle_num)\n",
    "\n",
    "kernel_range = 0.025\n",
    "kernel_normalization_factor = [4 / (3 * kernel_range), 40 / (7 * math.pi * pow(kernel_range, 2)), 8 / (math.pi * pow(kernel_range, 3))]\n",
    "\n",
    "mass = torch.ones(particle_num)\n",
    "\n",
    "def kernel_func(r_diff, h = 0.025):\n",
    "    q = torch.norm(r_diff, dim = 0) / h\n",
    "    \n",
    "    mask1 = q <= 0.5\n",
    "    mask2 = q <= 1\n",
    "    \n",
    "    result = torch.zeros(r_diff.shape[1:])\n",
    "    result += kernel_normalization_factor[dimension - 1] * (6 * (pow(q, 3) - pow(q, 2)) + 1) * mask1\n",
    "    result += kernel_normalization_factor[dimension - 1] * (2 * pow(1 - q, 3)) * ~mask1 * mask2\n",
    "    return result.sum(0)\n",
    "\n",
    "def visualize(pos_info):\n",
    "    fig = plt.figure()\n",
    "    \n",
    "    x, y = pos_info.T\n",
    "    plt.scatter(x,y)\n",
    "    plt.axis(x_lim + y_lim) \n",
    "    plt.show()"
   ]
  },
  {
   "cell_type": "code",
   "execution_count": 52,
   "metadata": {},
   "outputs": [],
   "source": [
    "class SPHNet(nn.Module):\n",
    "    def __init__(self):\n",
    "        super(SPHNet, self).__init__()\n",
    "        \n",
    "    def forward(self, pos, vel):\n",
    "        result = torch.zeros(pos.shape)\n",
    "        \n",
    "        #equation 11\n",
    "        x, y = pos[:, :1], pos[:, 1:2]\n",
    "        \n",
    "        diff_mat = torch.stack([x - x.transpose(0, -1), y - y.transpose(0, -1)], dim=1)\n",
    "        '''diff_mat = torch.empty(2, pos.shape[0], pos.shape[0], dtype=torch.float)\n",
    "        diff_mat[0] = x - x.transpose(0, -1)\n",
    "        diff_mat[1] = y - y.transpose(0, -1)'''\n",
    "        \n",
    "        density = kernel_func(diff_mat) * mass\n",
    "        \n",
    "        \n",
    "        #equation 23    \n",
    "        new_vel = vel + delta_t / torch.stack([mass, mass], dim = 1) * ext_f\n",
    "        \n",
    "        #need to implement viscosity later\n",
    "        \n",
    "        \n",
    "        \n",
    "        #equation 19    \n",
    "        \n",
    "              \n",
    "        return pos"
   ]
  },
  {
   "cell_type": "code",
   "execution_count": 53,
   "metadata": {},
   "outputs": [
    {
     "name": "stdout",
     "output_type": "stream",
     "text": [
      "tensor([[0.0477, 0.0828],\n",
      "        [0.0085, 0.4350],\n",
      "        [0.2561, 0.1360],\n",
      "        [0.1279, 0.0806],\n",
      "        [0.1820, 0.1647],\n",
      "        [0.1957, 0.3351],\n",
      "        [0.1955, 0.4455],\n",
      "        [0.1799, 0.0780],\n",
      "        [0.4317, 0.1097],\n",
      "        [0.2685, 0.2832]], dtype=torch.float64)\n",
      "tensor([[1., 1.],\n",
      "        [1., 1.],\n",
      "        [1., 1.],\n",
      "        [1., 1.],\n",
      "        [1., 1.],\n",
      "        [1., 1.],\n",
      "        [1., 1.],\n",
      "        [1., 1.],\n",
      "        [1., 1.],\n",
      "        [1., 1.]])\n",
      "tensor([[ 0.0000, -9.8000],\n",
      "        [ 0.0000, -9.8000],\n",
      "        [ 0.0000, -9.8000],\n",
      "        [ 0.0000, -9.8000],\n",
      "        [ 0.0000, -9.8000],\n",
      "        [ 0.0000, -9.8000],\n",
      "        [ 0.0000, -9.8000],\n",
      "        [ 0.0000, -9.8000],\n",
      "        [ 0.0000, -9.8000],\n",
      "        [ 0.0000, -9.8000]])\n",
      "tensor([[0.0477, 0.0632],\n",
      "        [0.0085, 0.4154],\n",
      "        [0.2561, 0.1164],\n",
      "        [0.1279, 0.0610],\n",
      "        [0.1820, 0.1451],\n",
      "        [0.1957, 0.3155],\n",
      "        [0.1955, 0.4259],\n",
      "        [0.1799, 0.0584],\n",
      "        [0.4317, 0.0901],\n",
      "        [0.2685, 0.2636]], dtype=torch.float64)\n"
     ]
    },
    {
     "data": {
      "image/png": "[encoded data removed]",
      "text/plain": [
       "<Figure size 432x288 with 1 Axes>"
      ]
     },
     "metadata": {
      "needs_background": "light"
     },
     "output_type": "display_data"
    }
   ],
   "source": [
    "pos, vel = torch.zeros([particle_num, dimension], dtype = float), torch.zeros([particle_num, dimension], dtype = float)\n",
    "\n",
    "\n",
    "for i in range(particle_num):\n",
    "    pos[i] = torch.tensor([random.uniform(x_lim[0], x_lim[1]), random.uniform(y_lim[0], y_lim[1])], dtype = float)\n",
    "    vel[i] = torch.tensor([random.uniform(0, v_lim), random.uniform(0, v_lim)], dtype = float)\n",
    "\n",
    "pos_list, vel_list = [pos], [vel]\n",
    "\n",
    "sph = SPHNet()\n",
    "\n",
    "pos = sph(pos, vel)\n",
    "visualize(pos)"
   ]
  },
  {
   "cell_type": "code",
   "execution_count": 28,
   "metadata": {},
   "outputs": [
    {
     "name": "stdout",
     "output_type": "stream",
     "text": [
      "2\n",
      "tensor([1, 2, 3])\n",
      "tensor([2.0000, 1.0000, 0.6667])\n",
      "tensor([[2.0000, 2.0000],\n",
      "        [1.0000, 1.0000],\n",
      "        [0.6667, 0.6667]])\n",
      "tensor([[ 0.0000, -9.8000],\n",
      "        [ 0.0000, -9.8000],\n",
      "        [ 0.0000, -9.8000]])\n",
      "tensor([[  0.0000, -19.6000],\n",
      "        [  0.0000,  -9.8000],\n",
      "        [  0.0000,  -6.5333]])\n"
     ]
    }
   ],
   "source": [
    "a = 2\n",
    "b = torch.tensor([1, 2, 3])\n",
    "ext_f = torch.tensor([[0, -9.8]] * 3)\n",
    "c = a / b\n",
    "\n",
    "output = torch.stack([c,c], dim=1) #[M, 2, N, K]\n",
    "print(a)\n",
    "print(b)\n",
    "print(c)\n",
    "print(output)\n",
    "print(ext_f)\n",
    "print(output * ext_f)"
   ]
  },
  {
   "cell_type": "code",
   "execution_count": null,
   "metadata": {},
   "outputs": [],
   "source": []
  }
 ],
 "metadata": {
  "kernelspec": {
   "display_name": "Python 3",
   "language": "python",
   "name": "python3"
  },
  "language_info": {
   "codemirror_mode": {
    "name": "ipython",
    "version": 3
   },
   "file_extension": ".py",
   "mimetype": "text/x-python",
   "name": "python",
   "nbconvert_exporter": "python",
   "pygments_lexer": "ipython3",
   "version": "3.6.12"
  }
 },
 "nbformat": 4,
 "nbformat_minor": 4
}
