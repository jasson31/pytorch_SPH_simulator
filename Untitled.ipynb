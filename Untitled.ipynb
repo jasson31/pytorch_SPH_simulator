{
 "cells": [
  {
   "cell_type": "code",
   "execution_count": 40,
   "metadata": {},
   "outputs": [],
   "source": [
    "%config IPCompleter.greedy=True\n",
    "\n",
    "import torch\n",
    "import torch.nn as nn\n",
    "import torch.nn.functional as F\n",
    "import matplotlib.pyplot as plt\n",
    "from matplotlib.animation import FuncAnimation\n",
    "import random\n",
    "import math"
   ]
  },
  {
   "cell_type": "code",
   "execution_count": 293,
   "metadata": {},
   "outputs": [],
   "source": [
    "x_lim, y_lim, v_lim = [0, 1], [0, 1], 0.5\n",
    "#dimension is equal to position size and velocity size\n",
    "particle_num, dimension = 10, 2\n",
    "\n",
    "kernel_range = 0.025\n",
    "kernel_normalization_factor = [4 / (3 * kernel_range), 40 / (7 * math.pi * pow(kernel_range, 2)), 8 / (math.pi * pow(kernel_range, 3))]\n",
    "\n",
    "mass = torch.ones(particle_num)\n",
    "\n",
    "def kernel_func(rDiff, h = 0.025):\n",
    "    q = torch.norm(rDiff, dim = 0) / h\n",
    "    \n",
    "    mask1 = q <= 0.5\n",
    "    mask2 = q <= 1\n",
    "    \n",
    "    result = torch.zeros(rDiff.shape[1:])\n",
    "    result += kernel_normalization_factor[dimension - 1] * (6 * (pow(q, 3) - pow(q, 2)) + 1) * mask1\n",
    "    result += kernel_normalization_factor[dimension - 1] * (2 * pow(1 - q, 3)) * ~mask1 * mask2\n",
    "    return result.sum(0)\n",
    "\n",
    "def visualize(pos_info):\n",
    "    fig = plt.figure()\n",
    "    \n",
    "    x, y = pos_info.T\n",
    "    plt.scatter(x,y)\n",
    "    plt.axis(x_lim + y_lim) \n",
    "    plt.show()"
   ]
  },
  {
   "cell_type": "code",
   "execution_count": 297,
   "metadata": {},
   "outputs": [],
   "source": [
    "class SPHNet(nn.Module):\n",
    "    def __init__(self):\n",
    "        super(SPHNet, self).__init__()\n",
    "        \n",
    "    def forward(self, netInput):\n",
    "        result = torch.zeros(netInput.shape)\n",
    "        \n",
    "        #equation 11\n",
    "        x, y = netInput[:, :1], netInput[:, 1:2]\n",
    "        \n",
    "        diffMat = torch.empty(2, netInput.shape[0], netInput.shape[0], dtype=torch.float)\n",
    "        diffMat[0] = x - x.transpose(0, -1)\n",
    "        diffMat[1] = y - y.transpose(0, -1)\n",
    "        \n",
    "        density = kernel_func(diffMat) * mass\n",
    "        \n",
    "        #equation 23\n",
    "        \n",
    "        \n",
    "              \n",
    "        return netInput"
   ]
  },
  {
   "cell_type": "code",
   "execution_count": 298,
   "metadata": {},
   "outputs": [
    {
     "name": "stdout",
     "output_type": "stream",
     "text": [
      "tensor([[0.3782, 0.6529],\n",
      "        [0.9100, 0.4354],\n",
      "        [0.3493, 0.1733],\n",
      "        [0.5722, 0.1056],\n",
      "        [0.9046, 0.6053],\n",
      "        [0.8252, 0.6382],\n",
      "        [0.8558, 0.1884],\n",
      "        [0.6273, 0.2928],\n",
      "        [0.1805, 0.4623],\n",
      "        [0.3493, 0.9977]], dtype=torch.float64)\n",
      "tensor([2910.2617, 2910.2617, 2910.2617, 2910.2617, 2910.2617, 2910.2617,\n",
      "        2910.2617, 2910.2617, 2910.2617, 2910.2617])\n",
      "tensor([2910.2617, 2910.2617, 2910.2617, 2910.2617, 2910.2617, 2910.2617,\n",
      "        2910.2617, 2910.2617, 2910.2617, 2910.2617])\n"
     ]
    },
    {
     "data": {
      "image/png": "[encoded data removed]",
      "text/plain": [
       "<Figure size 432x288 with 1 Axes>"
      ]
     },
     "metadata": {
      "needs_background": "light"
     },
     "output_type": "display_data"
    }
   ],
   "source": [
    "pos, vel = torch.zeros([particle_num, dimension], dtype = float), torch.zeros([particle_num, dimension], dtype = float)\n",
    "\n",
    "\n",
    "for i in range(particle_num):\n",
    "    pos[i] = torch.tensor([random.uniform(x_lim[0], x_lim[1]), random.uniform(y_lim[0], y_lim[1])], dtype = float)\n",
    "    vel[i] = torch.tensor([random.uniform(0, v_lim), random.uniform(0, v_lim)], dtype = float)\n",
    "\n",
    "print(pos)\n",
    "pos_list, vel_list = [pos], [vel]\n",
    "\n",
    "sph = SPHNet()\n",
    "\n",
    "pos = sph(pos)\n",
    "visualize(pos)"
   ]
  },
  {
   "cell_type": "code",
   "execution_count": 296,
   "metadata": {},
   "outputs": [
    {
     "name": "stdout",
     "output_type": "stream",
     "text": [
      "tensor([1., 1., 1., 1., 1., 1., 1., 1., 1., 1.])\n",
      "tensor([-1.1985,  0.4735, -0.0415,  0.5656, -0.5842,  0.0969, -0.0164,  0.0482,\n",
      "         1.1529,  0.1979])\n",
      "tensor([-1.1985,  0.4735, -0.0415,  0.5656, -0.5842,  0.0969, -0.0164,  0.0482,\n",
      "         1.1529,  0.1979])\n"
     ]
    }
   ],
   "source": [
    "a = torch.ones(particle_num)\n",
    "b = torch.randn(particle_num)\n",
    "print(a)\n",
    "print(b)\n",
    "print(a * b)"
   ]
  },
  {
   "cell_type": "code",
   "execution_count": null,
   "metadata": {},
   "outputs": [],
   "source": [
    "d"
   ]
  }
 ],
 "metadata": {
  "kernelspec": {
   "display_name": "Python 3",
   "language": "python",
   "name": "python3"
  },
  "language_info": {
   "codemirror_mode": {
    "name": "ipython",
    "version": 3
   },
   "file_extension": ".py",
   "mimetype": "text/x-python",
   "name": "python",
   "nbconvert_exporter": "python",
   "pygments_lexer": "ipython3",
   "version": "3.6.5"
  }
 },
 "nbformat": 4,
 "nbformat_minor": 4
}
