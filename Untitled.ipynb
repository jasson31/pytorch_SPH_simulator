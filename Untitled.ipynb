{
 "cells": [
  {
   "cell_type": "code",
   "execution_count": 40,
   "metadata": {},
   "outputs": [],
   "source": [
    "%config IPCompleter.greedy=True\n",
    "\n",
    "import torch\n",
    "import torch.nn as nn\n",
    "import torch.nn.functional as F\n",
    "import matplotlib.pyplot as plt\n",
    "from matplotlib.animation import FuncAnimation\n",
    "import random\n",
    "import math"
   ]
  },
  {
   "cell_type": "code",
   "execution_count": 70,
   "metadata": {},
   "outputs": [],
   "source": [
    "x_lim, y_lim, v_lim = [0, 1], [0, 1], 0.5\n",
    "#dimension is equal to position size and velocity size\n",
    "particle_num, dimension = 10, 2\n",
    "\n",
    "kernel_range = 0.025\n",
    "kernel_normalization_factor = [4 / (3 * kernel_range), 40 / (7 * math.pi * pow(kernel_range, 2)), 8 / (math.pi * pow(kernel_range, 3))]\n",
    "\n",
    "mass = 1\n",
    "\n",
    "def kernel_func(i, r, h = 0.025):\n",
    "    q = torch.norm(r - r[i], dim = 1) / h\n",
    "    \n",
    "    mask1 = q <= 0.5\n",
    "    mask2 = q <= 1\n",
    "    \n",
    "    result = torch.zeros(r.shape[0])\n",
    "    result += kernel_normalization_factor[dimension - 1] * (6 * (pow(q, 3) - pow(q, 2)) + 1) * mask1\n",
    "    result += kernel_normalization_factor[dimension - 1] * (2 * pow(1 - q, 3)) * ~mask1 * mask2\n",
    "    return result\n",
    "\n",
    "\n",
    "def visualize(pos_info):\n",
    "    fig = plt.figure()\n",
    "    \n",
    "    \n",
    "    x, y = pos_info.T\n",
    "    plt.scatter(x,y)\n",
    "    plt.axis(x_lim + y_lim) \n",
    "    plt.show()"
   ]
  },
  {
   "cell_type": "code",
   "execution_count": 71,
   "metadata": {},
   "outputs": [],
   "source": [
    "class SPHNet(nn.Module):\n",
    "    def __init__(self):\n",
    "        super(SPHNet, self).__init__()\n",
    "        \n",
    "    def forward(self, x):\n",
    "        result = torch.zeros(x.shape)\n",
    "        density = torch.zeros([x.shape[0]])\n",
    "        \n",
    "        for i in range(x.shape[0]):\n",
    "            result[i] = kernel_func(i, x).sum()\n",
    "            \n",
    "        return x"
   ]
  },
  {
   "cell_type": "code",
   "execution_count": 72,
   "metadata": {},
   "outputs": [
    {
     "data": {
      "image/png": "[encoded data removed]",
      "text/plain": [
       "<Figure size 432x288 with 1 Axes>"
      ]
     },
     "metadata": {
      "needs_background": "light"
     },
     "output_type": "display_data"
    }
   ],
   "source": [
    "pos, vel = torch.zeros([particle_num, dimension], dtype = float), torch.zeros([particle_num, dimension], dtype = float)\n",
    "\n",
    "for i in range(particle_num):\n",
    "    pos[i] = torch.tensor([random.uniform(x_lim[0], x_lim[1]), random.uniform(y_lim[0], y_lim[1])], dtype = float)\n",
    "    vel[i] = torch.tensor([random.uniform(0, vel_lim), random.uniform(0, vel_lim)], dtype = float)\n",
    "    \n",
    "pos_list, vel_list = [pos], [vel]\n",
    "\n",
    "sph = SPHNet()\n",
    "\n",
    "pos = sph(pos)\n",
    "visualize(pos)"
   ]
  },
  {
   "cell_type": "code",
   "execution_count": null,
   "metadata": {},
   "outputs": [],
   "source": []
  }
 ],
 "metadata": {
  "kernelspec": {
   "display_name": "Python 3",
   "language": "python",
   "name": "python3"
  },
  "language_info": {
   "codemirror_mode": {
    "name": "ipython",
    "version": 3
   },
   "file_extension": ".py",
   "mimetype": "text/x-python",
   "name": "python",
   "nbconvert_exporter": "python",
   "pygments_lexer": "ipython3",
   "version": "3.6.5"
  }
 },
 "nbformat": 4,
 "nbformat_minor": 4
}
