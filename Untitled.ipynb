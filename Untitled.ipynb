{
 "cells": [
  {
   "cell_type": "code",
   "execution_count": 1,
   "metadata": {},
   "outputs": [],
   "source": [
    "%config IPCompleter.greedy=True\n",
    "\n",
    "import torch\n",
    "import torch.nn as nn\n",
    "import torch.nn.functional as F\n",
    "import matplotlib.pyplot as plt\n",
    "import random\n",
    "import math"
   ]
  },
  {
   "cell_type": "code",
   "execution_count": 2,
   "metadata": {},
   "outputs": [
    {
     "name": "stdout",
     "output_type": "stream",
     "text": [
      "[53.33333333333333, 2910.2618165375143, 162974.6617261008]\n"
     ]
    }
   ],
   "source": [
    "x_lim, y_lim, v_lim = [0, 10], [0, 10], 0.5\n",
    "#dimension is equal to velocity size and position size\n",
    "particle_num, dimension = 10, 2\n",
    "\n",
    "att_size = dimension + dimension\n",
    "\n",
    "kernel_range = 0.025\n",
    "kernel_normalization_factor = [4 / (3 * kernel_range), 40 / (7 * math.pi * pow(kernel_range, 2)), 8 / (math.pi * pow(kernel_range, 3))]\n",
    "\n",
    "print(kernel_normalization_factor)\n",
    "mass = 1\n",
    "\n",
    "def kernel_func(r, h = 0.025):\n",
    "    q = torch.norm(r) / h\n",
    "    if q <= 0.5:\n",
    "        return kernel_normalization_factor[dimension - 1] * (6 * (pow(q, 3) - pow(q, 2)) + 1)\n",
    "    else if q <= 1:\n",
    "        return kernel_normalization_factor[dimension - 1] * (2 * pow(1 - q, 3))\n",
    "    else:\n",
    "        return 0\n",
    "\n",
    "\n",
    "def visualize(particle_info):\n",
    "    fig = plt.figure()\n",
    "    plt.plot(particle_info, 'ro')\n",
    "    plt.axis(x_lim + y_lim)\n",
    "    plt.show()"
   ]
  },
  {
   "cell_type": "code",
   "execution_count": 3,
   "metadata": {},
   "outputs": [],
   "source": [
    "class SPHNet(nn.Module):\n",
    "    def __init__(self):\n",
    "        super(SPHNet, self).__init__()\n",
    "        \n",
    "    def forward(self, x):\n",
    "        \n",
    "        return x"
   ]
  },
  {
   "cell_type": "code",
   "execution_count": 4,
   "metadata": {},
   "outputs": [
    {
     "name": "stdout",
     "output_type": "stream",
     "text": [
      "tensor([[ 5.0172,  8.3850,  0.3697, -0.3939],\n",
      "        [ 5.3552,  2.2907, -0.2628, -0.3655],\n",
      "        [ 5.6342,  2.2391, -0.4746, -0.1100],\n",
      "        [ 5.6701,  8.8208, -0.4817, -0.4173],\n",
      "        [ 7.2914,  5.7352,  0.1895, -0.3154],\n",
      "        [ 1.3063,  5.4110, -0.2411, -0.3196],\n",
      "        [ 1.6911,  3.1885, -0.2248, -0.0421],\n",
      "        [ 6.7110,  6.1251,  0.1940, -0.3098],\n",
      "        [ 9.8071,  6.1734,  0.4198, -0.2856],\n",
      "        [ 3.3188,  4.8820, -0.1100,  0.4103]], dtype=torch.float64)\n"
     ]
    },
    {
     "data": {
      "image/png": "[encoded data removed]",
      "text/plain": [
       "<Figure size 432x288 with 1 Axes>"
      ]
     },
     "metadata": {
      "needs_background": "light"
     },
     "output_type": "display_data"
    }
   ],
   "source": [
    "kernel_func(torch.tensor([3, 4], dtype = float))\n",
    "\n",
    "\n",
    "particles = torch.zeros([particle_num, att_size], dtype = float)\n",
    "\n",
    "for i in range(particle_num):\n",
    "    particles[i] = torch.tensor([random.uniform(x_lim[0], x_lim[1]), random.uniform(y_lim[0], y_lim[1]),\n",
    "                                 random.uniform(-v_lim, v_lim), random.uniform(-v_lim, v_lim)], dtype = float)\n",
    "\n",
    "\n",
    "print(particles)\n",
    "\n",
    "\n",
    "sph = SPHNet()\n",
    "\n",
    "particles = sph(particles)\n",
    "visualize(particles)"
   ]
  },
  {
   "cell_type": "code",
   "execution_count": null,
   "metadata": {},
   "outputs": [],
   "source": []
  }
 ],
 "metadata": {
  "kernelspec": {
   "display_name": "Python 3",
   "language": "python",
   "name": "python3"
  },
  "language_info": {
   "codemirror_mode": {
    "name": "ipython",
    "version": 3
   },
   "file_extension": ".py",
   "mimetype": "text/x-python",
   "name": "python",
   "nbconvert_exporter": "python",
   "pygments_lexer": "ipython3",
   "version": "3.6.5"
  }
 },
 "nbformat": 4,
 "nbformat_minor": 4
}
